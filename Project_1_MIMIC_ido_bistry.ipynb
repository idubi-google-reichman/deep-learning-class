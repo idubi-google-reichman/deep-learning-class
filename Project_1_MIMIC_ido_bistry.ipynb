{
  "nbformat": 4,
  "nbformat_minor": 0,
  "metadata": {
    "colab": {
      "provenance": [],
      "gpuType": "T4",
      "include_colab_link": true
    },
    "kernelspec": {
      "name": "python3",
      "display_name": "Python 3"
    },
    "language_info": {
      "name": "python"
    }
  },
  "cells": [
    {
      "cell_type": "markdown",
      "metadata": {
        "id": "view-in-github",
        "colab_type": "text"
      },
      "source": [
        "<a href=\"https://colab.research.google.com/github/idubi-google-reichman/deep-learning-class/blob/main/Project_1_MIMIC_ido_bistry.ipynb\" target=\"_parent\"><img src=\"https://colab.research.google.com/assets/colab-badge.svg\" alt=\"Open In Colab\"/></a>"
      ]
    },
    {
      "cell_type": "markdown",
      "source": [
        "# Project #1 Detecting Patterns in Tabular Medical Data with MIMIC-III\n",
        "You can read more about the dataset here: https://www.kaggle.com/datasets/saurabhshahane/in-hospital-mortality-prediction\n",
        "\n",
        "Dr. Barak Or"
      ],
      "metadata": {
        "id": "ArcUg0sAgZH9"
      }
    },
    {
      "cell_type": "code",
      "execution_count": 1,
      "metadata": {
        "colab": {
          "base_uri": "https://localhost:8080/"
        },
        "id": "VWf5Lx5sd4Pe",
        "outputId": "ac90f0d1-e33f-4c65-c5d3-ec207a9a1c23"
      },
      "outputs": [
        {
          "output_type": "stream",
          "name": "stdout",
          "text": [
            "Mounted at /content/drive\n"
          ]
        }
      ],
      "source": [
        "from google.colab import drive\n",
        "drive.mount('/content/drive')"
      ]
    },
    {
      "cell_type": "code",
      "source": [
        "my_path=\"/content/drive/MyDrive/Colab Notebooks/Homework/Project 1 MIMIC/\""
      ],
      "metadata": {
        "id": "eEW3x386eGcx"
      },
      "execution_count": 2,
      "outputs": []
    },
    {
      "cell_type": "code",
      "source": [
        "import pandas as pd\n",
        "import numpy as np\n",
        "from scipy import stats\n",
        "import matplotlib.pyplot as plt\n",
        "from sklearn.model_selection import train_test_split\n",
        "from sklearn.linear_model import LogisticRegression\n",
        "from sklearn.linear_model import LinearRegression\n",
        "from sklearn.svm import SVR\n",
        "from sklearn.tree import DecisionTreeRegressor\n",
        "from sklearn.neighbors import KNeighborsRegressor\n",
        "from sklearn.metrics import accuracy_score, precision_score, recall_score, f1_score, confusion_matrix, accuracy_score, classification_report, confusion_matrix\n",
        "from sklearn.metrics import mean_squared_error, r2_score\n",
        "from sklearn.tree import DecisionTreeClassifier\n",
        "from sklearn.svm import SVC\n",
        "from sklearn.neighbors import KNeighborsClassifier\n",
        "\n",
        "# Load the data\n",
        "data = pd.read_csv(my_path+\"MIMIC_data.csv\")"
      ],
      "metadata": {
        "id": "t5ZnhMyufopj"
      },
      "execution_count": 3,
      "outputs": []
    },
    {
      "cell_type": "code",
      "source": [
        "print(data.head())"
      ],
      "metadata": {
        "colab": {
          "base_uri": "https://localhost:8080/"
        },
        "id": "Zv-kpCu3fxig",
        "outputId": "1d23b982-df42-42b6-8548-a30e88aa9184"
      },
      "execution_count": 4,
      "outputs": [
        {
          "output_type": "stream",
          "name": "stdout",
          "text": [
            "   group      ID  outcome  age  gendera        BMI  hypertensive  \\\n",
            "0      1  125047      0.0   72        1  37.588179             0   \n",
            "1      1  139812      0.0   75        2        NaN             0   \n",
            "2      1  109787      0.0   83        2  26.572634             0   \n",
            "3      1  130587      0.0   43        2  83.264629             0   \n",
            "4      1  138290      0.0   75        2  31.824842             1   \n",
            "\n",
            "   atrialfibrillation  CHD with no MI  diabetes  ...  Blood sodium  \\\n",
            "0                   0               0         1  ...    138.750000   \n",
            "1                   0               0         0  ...    138.888889   \n",
            "2                   0               0         0  ...    140.714286   \n",
            "3                   0               0         0  ...    138.500000   \n",
            "4                   0               0         0  ...    136.666667   \n",
            "\n",
            "   Blood calcium    Chloride  Anion gap  Magnesium ion     PH  Bicarbonate  \\\n",
            "0       7.463636  109.166667  13.166667       2.618182  7.230    21.166667   \n",
            "1       8.162500   98.444444  11.444444       1.887500  7.225    33.444444   \n",
            "2       8.266667  105.857143  10.000000       2.157143  7.268    30.571429   \n",
            "3       9.476923   92.071429  12.357143       1.942857  7.370    38.571429   \n",
            "4       8.733333  104.500000  15.166667       1.650000  7.250    22.000000   \n",
            "\n",
            "   Lactic acid  PCO2  EF  \n",
            "0          0.5  40.0  55  \n",
            "1          0.5  78.0  55  \n",
            "2          0.5  71.5  35  \n",
            "3          0.6  75.0  55  \n",
            "4          0.6  50.0  55  \n",
            "\n",
            "[5 rows x 51 columns]\n"
          ]
        }
      ]
    },
    {
      "cell_type": "markdown",
      "source": [
        "# Q1.a\n",
        "What are the mean, median, mode, and standard deviation of the age, BMI, and Blood  sodium columns in the dataset? Why are these statistics important for understanding the  data?\n"
      ],
      "metadata": {
        "id": "W_gj2095fYyU"
      }
    },
    {
      "cell_type": "markdown",
      "source": [
        "this are the main statiistical data. it is assential to the \"feel\" of the narative of data.\n",
        "- the main issue with cancer is that: with age the propability to cancer is increased, it is important to know that the age is variant and the diversity is imortant.\n",
        "- other issues with cancer are main health of person , and this is measured with /bmi and solt in <font color='red'>blood  🩸  </font> , which are the other metrics that are evaluated.  \n",
        "\n"
      ],
      "metadata": {
        "id": "gwFhS0oEnXq6"
      }
    },
    {
      "cell_type": "code",
      "source": [
        "_age = data[\"age\"]\n",
        "_bmi = data[\"BMI\"]\n",
        "_sodium = data[\"Blood sodium\"]\n",
        "\n",
        "print(\"----------- AGE ---------------------\")\n",
        "print(\"Mean: \", _age.mean())\n",
        "print(\"Median: \", _age.median())\n",
        "print(\"Mode: \", _age.mode()[0])\n",
        "print(\"Standard Deviation: \", _age.std())\n",
        "print(\"max: \", _age.max())\n",
        "print(\"min: \", _age.min())\n",
        "\n",
        "print(\"----------- BMI ---------------------\")\n",
        "print(\"Mean: \", _bmi.mean())\n",
        "print(\"Median: \", _bmi.median())\n",
        "print(\"Mode: \", _bmi.mode()[0])\n",
        "print(\"Standard Deviation: \", _bmi.std())\n",
        "print(\"----------- Blood sodium ---------------------\")\n",
        "print(\"Mean: \", _sodium.mean())\n",
        "print(\"Median: \", _sodium.median())\n",
        "print(\"Mode: \", _sodium.mode()[0])\n",
        "print(\"Standard D_sodiumeviation: \", _sodium.std())\n",
        "\n",
        "print(\"\\n\\n\\n ---------- Age graph -------------- \")\n",
        "_age.plot.hist()\n",
        "plt.show()\n",
        "\n",
        "print(\" ---------- BMI graph -------------- \")\n",
        "_bmi.plot.hist()\n",
        "plt.show()\n",
        "\n",
        "print(\" ---------- Blood sodium graph -------------- \")\n",
        "_sodium.plot.hist()\n",
        "plt.show()\n"
      ],
      "metadata": {
        "colab": {
          "base_uri": "https://localhost:8080/",
          "height": 1000
        },
        "id": "R-VYv_OEnutM",
        "outputId": "6ac490f7-78a3-40df-b2b9-91363aa91b8c"
      },
      "execution_count": 9,
      "outputs": [
        {
          "output_type": "stream",
          "name": "stdout",
          "text": [
            "----------- AGE ---------------------\n",
            "Mean:  74.05522514868309\n",
            "Median:  77.0\n",
            "Mode:  89\n",
            "Standard Deviation:  13.434060756372126\n",
            "max:  99\n",
            "min:  19\n",
            "----------- BMI ---------------------\n",
            "Mean:  30.188277651590436\n",
            "Median:  28.3124741\n",
            "Mode:  23.29697566\n",
            "Standard Deviation:  9.325997440128406\n",
            "----------- Blood sodium ---------------------\n",
            "Mean:  138.89001647986404\n",
            "Median:  139.25\n",
            "Mode:  140.0\n",
            "Standard D_sodiumeviation:  4.151346613012863\n",
            "\n",
            "\n",
            "\n",
            " ---------- Age graph -------------- \n"
          ]
        },
        {
          "output_type": "display_data",
          "data": {
            "text/plain": [
              "<Figure size 640x480 with 1 Axes>"
            ],
            "image/png": "[encoded data removed]"
          },
          "metadata": {}
        },
        {
          "output_type": "stream",
          "name": "stdout",
          "text": [
            " ---------- BMI graph -------------- \n"
          ]
        },
        {
          "output_type": "display_data",
          "data": {
            "text/plain": [
              "<Figure size 640x480 with 1 Axes>"
            ],
            "image/png": "[encoded data removed]"
          },
          "metadata": {}
        },
        {
          "output_type": "stream",
          "name": "stdout",
          "text": [
            " ---------- Blood sodium graph -------------- \n"
          ]
        },
        {
          "output_type": "display_data",
          "data": {
            "text/plain": [
              "<Figure size 640x480 with 1 Axes>"
            ],
            "image/png": "[encoded data removed]"
          },
          "metadata": {}
        }
      ]
    },
    {
      "cell_type": "markdown",
      "source": [
        "Q1.b\n",
        "How do the distributions of age, BMI, and Blood sodium look in the dataset? What can we learn from these distributions about the patient population?"
      ],
      "metadata": {
        "id": "y9m2EnZ-hKeB"
      }
    },
    {
      "cell_type": "markdown",
      "source": [
        "\n",
        "\n",
        "1. **AGE** - looks like the main population is of elder people - the most common value is 89 , but we see that it is out of te standard deviation , so it is not in the right age scatter of distribution - this is not normal graph\n",
        "\n",
        "2. **BMI** and **Blood sodium** are with normal distribution - both mean and median are almost the same and all are within the std range , so it is standard distribution\n",
        "\n",
        "\n"
      ],
      "metadata": {
        "id": "z1Tf19liyMIp"
      }
    },
    {
      "cell_type": "markdown",
      "source": [
        "# Q 1.c\n",
        "Use pandas and scikit-learn to drop rows with missing values in the 'BMI' and 'Blood sodium' columns, and then uses logistic regression, SVM, kNN, and decision tree to predict an 'outcome' based on the features 'age', 'BMI', and 'Blood sodium'. Ensure to split the data using train_test_split with a 20% test size and a random state of 42. Finally, fit the model, make predictions on the test set, and print a report of the best model (“classification_report”). Explain the result of the confusion matrix for the best model (“classification_report”). Explain the result of the confusion matrix for the best model where you mention for each cell its meaning.\n"
      ],
      "metadata": {
        "id": "l2Mq9jIVkAbw"
      }
    },
    {
      "cell_type": "code",
      "source": [
        "# ------------------- INFRASTRUCTURE -----------------\n",
        "import pandas as pd\n",
        "from sklearn.datasets import make_classification\n",
        "from sklearn.model_selection import train_test_split\n",
        "from sklearn.metrics import classification_report, confusion_matrix\n",
        "\n",
        "# ------------------- STATISTIC MODELS -----------------\n",
        "from sklearn.linear_model import LinearRegression,LogisticRegression\n",
        "from sklearn.metrics import mean_squared_error, r2_score\n",
        "from sklearn.neighbors import KNeighborsClassifier\n",
        "from sklearn.svm import SVC\n",
        "from sklearn.tree import DecisionTreeClassifier\n",
        "\n",
        "\n",
        "metrics_dict = {\n",
        "    'LOGISTIC_REGRESSION'    : LogisticRegression(),\n",
        "     #  'SVM'                    : SVC(),\n",
        "    'KNN'                    : KNeighborsClassifier(n_neighbors=3),\n",
        "    'DECISION_TREE' : DecisionTreeClassifier()\n",
        "    }\n",
        "\n",
        "# split the data into training and testing sets.\n",
        "def prepare_predictions_dict (x,y):\n",
        "    X_train, X_test, y_train, y_test = train_test_split(x, y, test_size=0.2, random_state=42)\n",
        "    return {'x':x,'y':y,'X_train':X_train,'X_test':X_test, 'y_train': y_train, 'y_test': y_test}\n",
        "\n",
        "\n",
        "\n",
        "\n",
        "def execute_metrics( prediction_dict , metric_name ):\n",
        "    print(f\"   --------------------------------- \" )\n",
        "    model = metrics_dict[metric_name]\n",
        "    if metric_name == 'KNN':\n",
        "      print(f\"   {metric_name } (n_neighbors={model.n_neighbors} )    \")\n",
        "    else:\n",
        "      print(f\"   {metric_name} \")\n",
        "\n",
        "    model.fit(prediction_dict['X_train'], prediction_dict['y_train'])\n",
        "    # Make predictions and evaluate the model.\n",
        "    y_pred = model.predict(prediction_dict['X_test'])\n",
        "\n",
        "    # accuracy = accuracy_score(prediction_dict['y_test'], y_pred)\n",
        "    print('---------------------------------------------------------------------------')\n",
        "    # print('accuracy_score : \\n' ,  accuracy)\n",
        "    print('classification_report : \\n' ,  classification_report(prediction_dict['y_test'], y_pred))\n",
        "    print('confusion_matrix : \\n ' , confusion_matrix(prediction_dict['y_test'], y_pred))\n",
        "    print('---------------------------------------------------------------------------')\n",
        "\n",
        "\n",
        "\n",
        "\n",
        "\n",
        "def drop_null_values (dataset , fields_array , debuglogs = True):\n",
        "    cleandata = dataset.dropna(axis=0, how='any' , inplace=False , subset=fields_array)\n",
        "    debuglogs and print(f\"  before delete ...  \\033[1m {dataset.shape[0]}  \\033[0m    rows count \" )\n",
        "    debuglogs and print(f\"  after delete ...  \\033[1m {cleandata.shape[0]}  \\033[0m    rows count \" )\n",
        "    return cleandata\n",
        "\n",
        "\n",
        "print(\" ------------    Q1.c.1 ------------ \" )\n",
        "\n",
        "\n",
        "cleandata = drop_null_values(data, ['BMI','Blood sodium',])\n",
        "\n",
        "BMI_rows_deleted = data['BMI'].count() - cleandata['BMI'].count()\n",
        "BLOOD_SODIUM_rows_deleted =   data['Blood sodium'].count() - cleandata['Blood sodium'].count()\n",
        "\n",
        "\n",
        "print(f\" \\033[1m {BMI_rows_deleted}  \\033[0m    BMI rows deleted\" )\n",
        "print(f\" \\033[1m {BLOOD_SODIUM_rows_deleted}  \\033[0m  BLOOD SODIUM rows deleted\" )\n",
        "\n",
        "\n",
        "print(\" ------------    Q1.c.2 ------------ \" )\n",
        "\n",
        "# make sure that also age is not null an d if it is _ delete null ages\n",
        "dataset_4_Q1c2 = drop_null_values(cleandata , ['age','outcome'])\n",
        "\n",
        "\n",
        "# Separate features and target variable\n",
        "X = dataset_4_Q1c2[['age', 'Blood sodium','BMI']]\n",
        "y = dataset_4_Q1c2['outcome']\n",
        "\n",
        "\n",
        "prediction_dict = prepare_predictions_dict(X,y)\n",
        "\n",
        "\n",
        "for metric_name in metrics_dict:\n",
        "    if metric_name == 'KNN':\n",
        "      for i in range(3,6):\n",
        "          metrics_dict['KNN'].n_neighbors = i\n",
        "          execute_metrics( prediction_dict , metric_name )\n",
        "    else:\n",
        "      execute_metrics( prediction_dict , metric_name )\n",
        "\n",
        "\n",
        "\n",
        "\n",
        "\n",
        "\n",
        "print(\" ------------    Q1.c.3 ------------ \" )\n",
        "\n",
        "\n",
        "\n",
        "\n",
        "\n",
        "\n",
        "\n"
      ],
      "metadata": {
        "colab": {
          "base_uri": "https://localhost:8080/"
        },
        "id": "vwjHmhRf04Yd",
        "outputId": "54b6504a-4bfc-485a-f0cf-946087b7b75b"
      },
      "execution_count": 12,
      "outputs": [
        {
          "output_type": "stream",
          "name": "stdout",
          "text": [
            " ------------    Q1.c.1 ------------ \n",
            "  before delete ...  \u001b[1m 1177  \u001b[0m    rows count \n",
            "  after delete ...  \u001b[1m 962  \u001b[0m    rows count \n",
            " \u001b[1m 0  \u001b[0m    BMI rows deleted\n",
            " \u001b[1m 215  \u001b[0m  BLOOD SODIUM rows deleted\n",
            " ------------    Q1.c.2 ------------ \n",
            "  before delete ...  \u001b[1m 962  \u001b[0m    rows count \n",
            "  after delete ...  \u001b[1m 962  \u001b[0m    rows count \n",
            "   --------------------------------- \n",
            "   LOGISTIC_REGRESSION \n",
            "---------------------------------------------------------------------------\n",
            "classification_report : \n",
            "               precision    recall  f1-score   support\n",
            "\n",
            "         0.0       0.85      1.00      0.92       165\n",
            "         1.0       0.00      0.00      0.00        28\n",
            "\n",
            "    accuracy                           0.85       193\n",
            "   macro avg       0.43      0.50      0.46       193\n",
            "weighted avg       0.73      0.85      0.79       193\n",
            "\n",
            "confusion_matrix : \n",
            "  [[165   0]\n",
            " [ 28   0]]\n",
            "---------------------------------------------------------------------------\n",
            "   --------------------------------- \n",
            "   KNN (n_neighbors=3 )    \n",
            "---------------------------------------------------------------------------\n",
            "classification_report : \n",
            "               precision    recall  f1-score   support\n",
            "\n",
            "         0.0       0.86      0.97      0.91       165\n",
            "         1.0       0.17      0.04      0.06        28\n",
            "\n",
            "    accuracy                           0.83       193\n",
            "   macro avg       0.51      0.50      0.48       193\n",
            "weighted avg       0.76      0.83      0.79       193\n",
            "\n",
            "confusion_matrix : \n",
            "  [[160   5]\n",
            " [ 27   1]]\n",
            "---------------------------------------------------------------------------\n",
            "   --------------------------------- \n",
            "   KNN (n_neighbors=4 )    \n",
            "---------------------------------------------------------------------------\n",
            "classification_report : \n",
            "               precision    recall  f1-score   support\n",
            "\n",
            "         0.0       0.85      0.99      0.92       165\n",
            "         1.0       0.00      0.00      0.00        28\n",
            "\n",
            "    accuracy                           0.84       193\n",
            "   macro avg       0.43      0.49      0.46       193\n",
            "weighted avg       0.73      0.84      0.78       193\n",
            "\n",
            "confusion_matrix : \n",
            "  [[163   2]\n",
            " [ 28   0]]\n",
            "---------------------------------------------------------------------------\n",
            "   --------------------------------- \n",
            "   KNN (n_neighbors=5 )    \n",
            "---------------------------------------------------------------------------\n",
            "classification_report : \n",
            "               precision    recall  f1-score   support\n",
            "\n",
            "         0.0       0.85      0.98      0.91       165\n",
            "         1.0       0.00      0.00      0.00        28\n",
            "\n",
            "    accuracy                           0.84       193\n",
            "   macro avg       0.43      0.49      0.46       193\n",
            "weighted avg       0.73      0.84      0.78       193\n",
            "\n",
            "confusion_matrix : \n",
            "  [[162   3]\n",
            " [ 28   0]]\n",
            "---------------------------------------------------------------------------\n",
            "   --------------------------------- \n",
            "   DECISION_TREE \n",
            "---------------------------------------------------------------------------\n",
            "classification_report : \n",
            "               precision    recall  f1-score   support\n",
            "\n",
            "         0.0       0.86      0.90      0.88       165\n",
            "         1.0       0.16      0.11      0.13        28\n",
            "\n",
            "    accuracy                           0.79       193\n",
            "   macro avg       0.51      0.51      0.50       193\n",
            "weighted avg       0.75      0.79      0.77       193\n",
            "\n",
            "confusion_matrix : \n",
            "  [[149  16]\n",
            " [ 25   3]]\n",
            "---------------------------------------------------------------------------\n",
            " ------------    Q1.c.3 ------------ \n"
          ]
        },
        {
          "output_type": "stream",
          "name": "stderr",
          "text": [
            "/usr/local/lib/python3.10/dist-packages/sklearn/metrics/_classification.py:1344: UndefinedMetricWarning: Precision and F-score are ill-defined and being set to 0.0 in labels with no predicted samples. Use `zero_division` parameter to control this behavior.\n",
            "  _warn_prf(average, modifier, msg_start, len(result))\n",
            "/usr/local/lib/python3.10/dist-packages/sklearn/metrics/_classification.py:1344: UndefinedMetricWarning: Precision and F-score are ill-defined and being set to 0.0 in labels with no predicted samples. Use `zero_division` parameter to control this behavior.\n",
            "  _warn_prf(average, modifier, msg_start, len(result))\n",
            "/usr/local/lib/python3.10/dist-packages/sklearn/metrics/_classification.py:1344: UndefinedMetricWarning: Precision and F-score are ill-defined and being set to 0.0 in labels with no predicted samples. Use `zero_division` parameter to control this behavior.\n",
            "  _warn_prf(average, modifier, msg_start, len(result))\n"
          ]
        }
      ]
    },
    {
      "cell_type": "markdown",
      "source": [
        "# Q1.d\n",
        "Predict BMI based on age and Blood sodium with linear regression, SVM regressor, Decision tree regressor, and kNN refressor. Calculate RMSE, MSE, R-squared.\n",
        "Split where 20% left for the test, random state=42."
      ],
      "metadata": {
        "id": "aosUQvNzkgaT"
      }
    },
    {
      "cell_type": "markdown",
      "source": [
        "# Q2.a"
      ],
      "metadata": {
        "id": "NKZhwe7MxCze"
      }
    },
    {
      "cell_type": "code",
      "source": [
        "import numpy as np\n",
        "import matplotlib.pyplot as plt\n",
        "from sklearn.decomposition import PCA\n",
        "from sklearn.manifold import TSNE\n",
        "from sklearn.preprocessing import StandardScaler\n",
        "from sklearn.linear_model import LogisticRegression\n",
        "from sklearn.model_selection import train_test_split\n",
        "from sklearn.metrics import accuracy_score"
      ],
      "metadata": {
        "id": "LLWyfo-VyirK"
      },
      "execution_count": 7,
      "outputs": []
    },
    {
      "cell_type": "markdown",
      "source": [
        "# Q2.b\n",
        "Apply K-means clustering to the dataset to group patients based on age, BMI, diabetes, and heart rate. Cluster to 2,3,4,5, and 6 groups. What are Silhouette and Davies-Bouldin Score for each case?"
      ],
      "metadata": {
        "id": "cmQU4_kNxnf8"
      }
    },
    {
      "cell_type": "markdown",
      "source": [
        "#Q3.a\n",
        "Describe the steps involved in training a neural network, including forward propagation and backpropagation."
      ],
      "metadata": {
        "id": "kTno5l_f4jpz"
      }
    },
    {
      "cell_type": "markdown",
      "source": [
        "## Answer\n",
        "\n",
        "\n",
        "\n",
        "\n",
        "\n",
        "\n",
        "\n"
      ],
      "metadata": {
        "id": "8hTEcrfRuRLP"
      }
    },
    {
      "cell_type": "markdown",
      "source": [
        "# Q3.b\n",
        "Explain the bias-variance trade-off in neural network performance. How does it affect model generalization?"
      ],
      "metadata": {
        "id": "IlrgV_qU4vpd"
      }
    },
    {
      "cell_type": "markdown",
      "source": [
        "## Answer\n"
      ],
      "metadata": {
        "id": "XIgQibOntV5G"
      }
    },
    {
      "cell_type": "markdown",
      "source": [
        "# Q3.c\n",
        "Highlight the importance of data preprocessing, normalization, and splitting for training effective deep learning models."
      ],
      "metadata": {
        "id": "w2wMvtEj5Mpp"
      }
    },
    {
      "cell_type": "markdown",
      "source": [
        "## Answer\n"
      ],
      "metadata": {
        "id": "nnRJf3yKvjb3"
      }
    },
    {
      "cell_type": "markdown",
      "source": [
        "# Q3.d+e"
      ],
      "metadata": {
        "id": "uuTr0OVu5XJd"
      }
    },
    {
      "cell_type": "markdown",
      "source": [
        "Relevant library from tensorflow"
      ],
      "metadata": {
        "id": "WJ-QZ9077KX4"
      }
    },
    {
      "cell_type": "code",
      "source": [
        "from tensorflow.keras.models import Sequential\n",
        "from tensorflow.keras.layers import Dense, Dropout\n",
        "from sklearn.model_selection import train_test_split\n",
        "from sklearn.metrics import accuracy_score, confusion_matrix\n",
        "from sklearn.preprocessing import StandardScaler\n",
        "import matplotlib.pyplot as plt\n",
        "import seaborn as sns\n",
        "import numpy as np"
      ],
      "metadata": {
        "id": "rF2BHVgj69RF"
      },
      "execution_count": 8,
      "outputs": []
    },
    {
      "cell_type": "markdown",
      "source": [
        "Ensuring data is clean and ready with all features"
      ],
      "metadata": {
        "id": "le4yhraX7P7P"
      }
    },
    {
      "cell_type": "code",
      "source": [],
      "metadata": {
        "id": "iPOT5kcl7Gz_"
      },
      "execution_count": 8,
      "outputs": []
    }
  ]
}